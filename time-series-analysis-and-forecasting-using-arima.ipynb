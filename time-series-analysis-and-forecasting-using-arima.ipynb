{
 "cells": [
  {
   "cell_type": "code",
   "execution_count": 1,
   "metadata": {
    "_cell_guid": "b1076dfc-b9ad-4769-8c92-a6c4dae69d19",
    "_uuid": "8f2839f25d086af736a60e9eeb907d3b93b6e0e5",
    "execution": {
     "iopub.execute_input": "2020-10-07T12:17:19.365101Z",
     "iopub.status.busy": "2020-10-07T12:17:19.364017Z",
     "iopub.status.idle": "2020-10-07T12:17:19.374804Z",
     "shell.execute_reply": "2020-10-07T12:17:19.373829Z"
    },
    "papermill": {
     "duration": 0.09055,
     "end_time": "2020-10-07T12:17:19.374953",
     "exception": false,
     "start_time": "2020-10-07T12:17:19.284403",
     "status": "completed"
    },
    "tags": []
   },
   "outputs": [],
   "source": [
    "%matplotlib inline\n",
    "import numpy as np\n",
    "import pandas as pd \n",
    "import matplotlib.pylab as plt"
   ]
  },
  {
   "cell_type": "markdown",
   "metadata": {
    "papermill": {
     "duration": 0.065799,
     "end_time": "2020-10-07T12:17:19.508130",
     "exception": false,
     "start_time": "2020-10-07T12:17:19.442331",
     "status": "completed"
    },
    "tags": []
   },
   "source": [
    "In this problem statement we r only going to solve Electric_Production.csv"
   ]
  },
  {
   "cell_type": "code",
   "execution_count": 3,
   "metadata": {
    "execution": {
     "iopub.execute_input": "2020-10-07T12:17:19.650755Z",
     "iopub.status.busy": "2020-10-07T12:17:19.649984Z",
     "iopub.status.idle": "2020-10-07T12:17:19.661407Z",
     "shell.execute_reply": "2020-10-07T12:17:19.660655Z"
    },
    "papermill": {
     "duration": 0.086236,
     "end_time": "2020-10-07T12:17:19.661557",
     "exception": false,
     "start_time": "2020-10-07T12:17:19.575321",
     "status": "completed"
    },
    "tags": []
   },
   "outputs": [],
   "source": [
    "train=pd.read_csv(\"Electric_Production.csv\")"
   ]
  },
  {
   "cell_type": "code",
   "execution_count": 4,
   "metadata": {
    "_cell_guid": "79c7e3d0-c299-4dcb-8224-4455121ee9b0",
    "_uuid": "d629ff2d2480ee46fbb7e2d37f6b5fab8052498a",
    "execution": {
     "iopub.execute_input": "2020-10-07T12:17:19.808196Z",
     "iopub.status.busy": "2020-10-07T12:17:19.802957Z",
     "iopub.status.idle": "2020-10-07T12:17:19.817807Z",
     "shell.execute_reply": "2020-10-07T12:17:19.816980Z"
    },
    "papermill": {
     "duration": 0.089778,
     "end_time": "2020-10-07T12:17:19.817942",
     "exception": false,
     "start_time": "2020-10-07T12:17:19.728164",
     "status": "completed"
    },
    "tags": []
   },
   "outputs": [
    {
     "data": {
      "text/html": [
       "<div>\n",
       "<style scoped>\n",
       "    .dataframe tbody tr th:only-of-type {\n",
       "        vertical-align: middle;\n",
       "    }\n",
       "\n",
       "    .dataframe tbody tr th {\n",
       "        vertical-align: top;\n",
       "    }\n",
       "\n",
       "    .dataframe thead th {\n",
       "        text-align: right;\n",
       "    }\n",
       "</style>\n",
       "<table border=\"1\" class=\"dataframe\">\n",
       "  <thead>\n",
       "    <tr style=\"text-align: right;\">\n",
       "      <th></th>\n",
       "      <th>DATE</th>\n",
       "      <th>IPG2211A2N</th>\n",
       "    </tr>\n",
       "  </thead>\n",
       "  <tbody>\n",
       "    <tr>\n",
       "      <td>0</td>\n",
       "      <td>1/1/1985</td>\n",
       "      <td>72.5052</td>\n",
       "    </tr>\n",
       "    <tr>\n",
       "      <td>1</td>\n",
       "      <td>2/1/1985</td>\n",
       "      <td>70.6720</td>\n",
       "    </tr>\n",
       "    <tr>\n",
       "      <td>2</td>\n",
       "      <td>3/1/1985</td>\n",
       "      <td>62.4502</td>\n",
       "    </tr>\n",
       "    <tr>\n",
       "      <td>3</td>\n",
       "      <td>4/1/1985</td>\n",
       "      <td>57.4714</td>\n",
       "    </tr>\n",
       "    <tr>\n",
       "      <td>4</td>\n",
       "      <td>5/1/1985</td>\n",
       "      <td>55.3151</td>\n",
       "    </tr>\n",
       "  </tbody>\n",
       "</table>\n",
       "</div>"
      ],
      "text/plain": [
       "       DATE  IPG2211A2N\n",
       "0  1/1/1985     72.5052\n",
       "1  2/1/1985     70.6720\n",
       "2  3/1/1985     62.4502\n",
       "3  4/1/1985     57.4714\n",
       "4  5/1/1985     55.3151"
      ]
     },
     "execution_count": 4,
     "metadata": {},
     "output_type": "execute_result"
    }
   ],
   "source": [
    "train.head()"
   ]
  },
  {
   "cell_type": "code",
   "execution_count": 5,
   "metadata": {
    "execution": {
     "iopub.execute_input": "2020-10-07T12:17:19.990831Z",
     "iopub.status.busy": "2020-10-07T12:17:19.990033Z",
     "iopub.status.idle": "2020-10-07T12:17:19.995066Z",
     "shell.execute_reply": "2020-10-07T12:17:19.993933Z"
    },
    "papermill": {
     "duration": 0.100411,
     "end_time": "2020-10-07T12:17:19.995267",
     "exception": false,
     "start_time": "2020-10-07T12:17:19.894856",
     "status": "completed"
    },
    "tags": []
   },
   "outputs": [
    {
     "name": "stdout",
     "output_type": "stream",
     "text": [
      "<class 'pandas.core.frame.DataFrame'>\n",
      "RangeIndex: 397 entries, 0 to 396\n",
      "Data columns (total 2 columns):\n",
      "DATE          397 non-null object\n",
      "IPG2211A2N    397 non-null float64\n",
      "dtypes: float64(1), object(1)\n",
      "memory usage: 6.3+ KB\n"
     ]
    }
   ],
   "source": [
    "train.info()"
   ]
  },
  {
   "cell_type": "markdown",
   "metadata": {
    "papermill": {
     "duration": 0.067695,
     "end_time": "2020-10-07T12:17:20.131654",
     "exception": false,
     "start_time": "2020-10-07T12:17:20.063959",
     "status": "completed"
    },
    "tags": []
   },
   "source": [
    "we r gonna solve time series problem"
   ]
  },
  {
   "cell_type": "markdown",
   "metadata": {
    "papermill": {
     "duration": 0.067666,
     "end_time": "2020-10-07T12:17:20.267861",
     "exception": false,
     "start_time": "2020-10-07T12:17:20.200195",
     "status": "completed"
    },
    "tags": []
   },
   "source": [
    "step1:we clearly see dtype of column DATE is object,we have to convert it into DATETIME"
   ]
  },
  {
   "cell_type": "markdown",
   "metadata": {
    "papermill": {
     "duration": 0.068697,
     "end_time": "2020-10-07T12:17:20.404206",
     "exception": false,
     "start_time": "2020-10-07T12:17:20.335509",
     "status": "completed"
    },
    "tags": []
   },
   "source": [
    "step2:we have to remove the index,and made DATE as index"
   ]
  },
  {
   "cell_type": "code",
   "execution_count": 6,
   "metadata": {
    "execution": {
     "iopub.execute_input": "2020-10-07T12:17:20.553648Z",
     "iopub.status.busy": "2020-10-07T12:17:20.552575Z",
     "iopub.status.idle": "2020-10-07T12:17:20.555953Z",
     "shell.execute_reply": "2020-10-07T12:17:20.555349Z"
    },
    "papermill": {
     "duration": 0.083862,
     "end_time": "2020-10-07T12:17:20.556086",
     "exception": false,
     "start_time": "2020-10-07T12:17:20.472224",
     "status": "completed"
    },
    "tags": []
   },
   "outputs": [],
   "source": [
    "train[\"DATE\"]=pd.to_datetime(train[\"DATE\"],infer_datetime_format=True)"
   ]
  },
  {
   "cell_type": "code",
   "execution_count": 7,
   "metadata": {
    "execution": {
     "iopub.execute_input": "2020-10-07T12:17:20.700791Z",
     "iopub.status.busy": "2020-10-07T12:17:20.699819Z",
     "iopub.status.idle": "2020-10-07T12:17:20.702316Z",
     "shell.execute_reply": "2020-10-07T12:17:20.702889Z"
    },
    "papermill": {
     "duration": 0.078823,
     "end_time": "2020-10-07T12:17:20.703045",
     "exception": false,
     "start_time": "2020-10-07T12:17:20.624222",
     "status": "completed"
    },
    "tags": []
   },
   "outputs": [],
   "source": [
    "train=train.set_index(['DATE'])"
   ]
  },
  {
   "cell_type": "code",
   "execution_count": 8,
   "metadata": {
    "execution": {
     "iopub.execute_input": "2020-10-07T12:17:20.851075Z",
     "iopub.status.busy": "2020-10-07T12:17:20.849915Z",
     "iopub.status.idle": "2020-10-07T12:17:20.853894Z",
     "shell.execute_reply": "2020-10-07T12:17:20.854625Z"
    },
    "papermill": {
     "duration": 0.082823,
     "end_time": "2020-10-07T12:17:20.854782",
     "exception": false,
     "start_time": "2020-10-07T12:17:20.771959",
     "status": "completed"
    },
    "tags": []
   },
   "outputs": [
    {
     "data": {
      "text/html": [
       "<div>\n",
       "<style scoped>\n",
       "    .dataframe tbody tr th:only-of-type {\n",
       "        vertical-align: middle;\n",
       "    }\n",
       "\n",
       "    .dataframe tbody tr th {\n",
       "        vertical-align: top;\n",
       "    }\n",
       "\n",
       "    .dataframe thead th {\n",
       "        text-align: right;\n",
       "    }\n",
       "</style>\n",
       "<table border=\"1\" class=\"dataframe\">\n",
       "  <thead>\n",
       "    <tr style=\"text-align: right;\">\n",
       "      <th></th>\n",
       "      <th>IPG2211A2N</th>\n",
       "    </tr>\n",
       "    <tr>\n",
       "      <th>DATE</th>\n",
       "      <th></th>\n",
       "    </tr>\n",
       "  </thead>\n",
       "  <tbody>\n",
       "    <tr>\n",
       "      <td>1985-01-01</td>\n",
       "      <td>72.5052</td>\n",
       "    </tr>\n",
       "    <tr>\n",
       "      <td>1985-02-01</td>\n",
       "      <td>70.6720</td>\n",
       "    </tr>\n",
       "    <tr>\n",
       "      <td>1985-03-01</td>\n",
       "      <td>62.4502</td>\n",
       "    </tr>\n",
       "    <tr>\n",
       "      <td>1985-04-01</td>\n",
       "      <td>57.4714</td>\n",
       "    </tr>\n",
       "    <tr>\n",
       "      <td>1985-05-01</td>\n",
       "      <td>55.3151</td>\n",
       "    </tr>\n",
       "  </tbody>\n",
       "</table>\n",
       "</div>"
      ],
      "text/plain": [
       "            IPG2211A2N\n",
       "DATE                  \n",
       "1985-01-01     72.5052\n",
       "1985-02-01     70.6720\n",
       "1985-03-01     62.4502\n",
       "1985-04-01     57.4714\n",
       "1985-05-01     55.3151"
      ]
     },
     "execution_count": 8,
     "metadata": {},
     "output_type": "execute_result"
    }
   ],
   "source": [
    "train.head()"
   ]
  },
  {
   "cell_type": "markdown",
   "metadata": {
    "papermill": {
     "duration": 0.068362,
     "end_time": "2020-10-07T12:17:20.992071",
     "exception": false,
     "start_time": "2020-10-07T12:17:20.923709",
     "status": "completed"
    },
    "tags": []
   },
   "source": [
    "# Lets visulize our data(before that we should understand following terms)"
   ]
  },
  {
   "cell_type": "markdown",
   "metadata": {
    "papermill": {
     "duration": 0.068391,
     "end_time": "2020-10-07T12:17:21.129532",
     "exception": false,
     "start_time": "2020-10-07T12:17:21.061141",
     "status": "completed"
    },
    "tags": []
   },
   "source": [
    "# Trend"
   ]
  },
  {
   "cell_type": "markdown",
   "metadata": {
    "papermill": {
     "duration": 0.06841,
     "end_time": "2020-10-07T12:17:21.267386",
     "exception": false,
     "start_time": "2020-10-07T12:17:21.198976",
     "status": "completed"
    },
    "tags": []
   },
   "source": [
    "1-The increasing or decreasing value in the series"
   ]
  },
  {
   "cell_type": "markdown",
   "metadata": {
    "papermill": {
     "duration": 0.068856,
     "end_time": "2020-10-07T12:17:21.405291",
     "exception": false,
     "start_time": "2020-10-07T12:17:21.336435",
     "status": "completed"
    },
    "tags": []
   },
   "source": [
    "2-we can take example of facebook"
   ]
  },
  {
   "cell_type": "markdown",
   "metadata": {
    "papermill": {
     "duration": 0.076247,
     "end_time": "2020-10-07T12:17:21.551277",
     "exception": false,
     "start_time": "2020-10-07T12:17:21.475030",
     "status": "completed"
    },
    "tags": []
   },
   "source": [
    "3-Number of facebook users is increasing with time,so its a trend"
   ]
  },
  {
   "cell_type": "markdown",
   "metadata": {
    "papermill": {
     "duration": 0.07001,
     "end_time": "2020-10-07T12:17:21.691503",
     "exception": false,
     "start_time": "2020-10-07T12:17:21.621493",
     "status": "completed"
    },
    "tags": []
   },
   "source": [
    "4-Number of people who uses Yahoo as their search engine are deacreasing,its also a trend but a decreasing trend"
   ]
  },
  {
   "cell_type": "markdown",
   "metadata": {
    "papermill": {
     "duration": 0.06812,
     "end_time": "2020-10-07T12:17:21.828315",
     "exception": false,
     "start_time": "2020-10-07T12:17:21.760195",
     "status": "completed"
    },
    "tags": []
   },
   "source": [
    "5-Mathematical Curve-it can be linear or damped or exponential"
   ]
  },
  {
   "cell_type": "markdown",
   "metadata": {
    "papermill": {
     "duration": 0.06851,
     "end_time": "2020-10-07T12:17:21.965388",
     "exception": false,
     "start_time": "2020-10-07T12:17:21.896878",
     "status": "completed"
    },
    "tags": []
   },
   "source": [
    "# Seasonality"
   ]
  },
  {
   "cell_type": "markdown",
   "metadata": {
    "papermill": {
     "duration": 0.068468,
     "end_time": "2020-10-07T12:17:22.102854",
     "exception": false,
     "start_time": "2020-10-07T12:17:22.034386",
     "status": "completed"
    },
    "tags": []
   },
   "source": [
    "2-Lets understand by taking an example of icecream"
   ]
  },
  {
   "cell_type": "markdown",
   "metadata": {
    "papermill": {
     "duration": 0.069124,
     "end_time": "2020-10-07T12:17:22.241418",
     "exception": false,
     "start_time": "2020-10-07T12:17:22.172294",
     "status": "completed"
    },
    "tags": []
   },
   "source": [
    "3-We all eats ice-cream mostly in summers"
   ]
  },
  {
   "cell_type": "markdown",
   "metadata": {
    "papermill": {
     "duration": 0.068748,
     "end_time": "2020-10-07T12:17:22.379597",
     "exception": false,
     "start_time": "2020-10-07T12:17:22.310849",
     "status": "completed"
    },
    "tags": []
   },
   "source": [
    "4-Therefore the sales of icecreams is increases mostly in summers and then drop down in winter(that what we called seasonality)"
   ]
  },
  {
   "cell_type": "markdown",
   "metadata": {
    "papermill": {
     "duration": 0.068885,
     "end_time": "2020-10-07T12:17:22.517676",
     "exception": false,
     "start_time": "2020-10-07T12:17:22.448791",
     "status": "completed"
    },
    "tags": []
   },
   "source": [
    "5-Mathematics curve-its mostly of a sin curve or a distorted sin curve"
   ]
  },
  {
   "cell_type": "markdown",
   "metadata": {
    "papermill": {
     "duration": 0.072215,
     "end_time": "2020-10-07T12:17:22.659781",
     "exception": false,
     "start_time": "2020-10-07T12:17:22.587566",
     "status": "completed"
    },
    "tags": []
   },
   "source": [
    "# Trend with seasonality\n"
   ]
  },
  {
   "cell_type": "markdown",
   "metadata": {
    "papermill": {
     "duration": 0.06998,
     "end_time": "2020-10-07T12:17:22.800472",
     "exception": false,
     "start_time": "2020-10-07T12:17:22.730492",
     "status": "completed"
    },
    "tags": []
   },
   "source": [
    "1-we can take example of ice cream sales"
   ]
  },
  {
   "cell_type": "markdown",
   "metadata": {
    "papermill": {
     "duration": 0.06824,
     "end_time": "2020-10-07T12:17:22.937965",
     "exception": false,
     "start_time": "2020-10-07T12:17:22.869725",
     "status": "completed"
    },
    "tags": []
   },
   "source": [
    "2-World population is increasing every year(so its  trend)"
   ]
  },
  {
   "cell_type": "markdown",
   "metadata": {
    "papermill": {
     "duration": 0.068718,
     "end_time": "2020-10-07T12:17:23.075370",
     "exception": false,
     "start_time": "2020-10-07T12:17:23.006652",
     "status": "completed"
    },
    "tags": []
   },
   "source": [
    "3-In summers ice creams sells more than winter(its a seasonality)"
   ]
  },
  {
   "cell_type": "markdown",
   "metadata": {
    "papermill": {
     "duration": 0.068919,
     "end_time": "2020-10-07T12:17:23.213909",
     "exception": false,
     "start_time": "2020-10-07T12:17:23.144990",
     "status": "completed"
    },
    "tags": []
   },
   "source": [
    "4-so we can say that as time increasing ice cream sales also increasing because buyers are increasing and in summers it increases more due to seasonality effect"
   ]
  },
  {
   "cell_type": "code",
   "execution_count": 9,
   "metadata": {
    "execution": {
     "iopub.execute_input": "2020-10-07T12:17:23.358150Z",
     "iopub.status.busy": "2020-10-07T12:17:23.357320Z",
     "iopub.status.idle": "2020-10-07T12:17:23.822466Z",
     "shell.execute_reply": "2020-10-07T12:17:23.821750Z"
    },
    "papermill": {
     "duration": 0.539549,
     "end_time": "2020-10-07T12:17:23.822606",
     "exception": false,
     "start_time": "2020-10-07T12:17:23.283057",
     "status": "completed"
    },
    "tags": []
   },
   "outputs": [
    {
     "data": {
      "text/plain": [
       "<matplotlib.axes._subplots.AxesSubplot at 0x13910fbb948>"
      ]
     },
     "execution_count": 9,
     "metadata": {},
     "output_type": "execute_result"
    },
    {
     "data": {
      "image/png": "[encoded data removed]",
      "text/plain": [
       "<Figure size 720x432 with 1 Axes>"
      ]
     },
     "metadata": {
      "needs_background": "light"
     },
     "output_type": "display_data"
    }
   ],
   "source": [
    "from matplotlib.pylab import rcParams\n",
    "rcParams['figure.figsize']=10,6\n",
    "train.plot()"
   ]
  },
  {
   "cell_type": "markdown",
   "metadata": {
    "papermill": {
     "duration": 0.071146,
     "end_time": "2020-10-07T12:17:23.966595",
     "exception": false,
     "start_time": "2020-10-07T12:17:23.895449",
     "status": "completed"
    },
    "tags": []
   },
   "source": [
    "We clearly see that their is an increasing trend and seasonality"
   ]
  },
  {
   "cell_type": "markdown",
   "metadata": {
    "papermill": {
     "duration": 0.071616,
     "end_time": "2020-10-07T12:17:24.109968",
     "exception": false,
     "start_time": "2020-10-07T12:17:24.038352",
     "status": "completed"
    },
    "tags": []
   },
   "source": [
    "Now we will decompose the above visulization into trend and seasonality for more clear visulization"
   ]
  },
  {
   "cell_type": "code",
   "execution_count": 10,
   "metadata": {
    "execution": {
     "iopub.execute_input": "2020-10-07T12:17:24.265595Z",
     "iopub.status.busy": "2020-10-07T12:17:24.264813Z",
     "iopub.status.idle": "2020-10-07T12:17:25.903372Z",
     "shell.execute_reply": "2020-10-07T12:17:25.904089Z"
    },
    "papermill": {
     "duration": 1.721697,
     "end_time": "2020-10-07T12:17:25.904264",
     "exception": false,
     "start_time": "2020-10-07T12:17:24.182567",
     "status": "completed"
    },
    "tags": []
   },
   "outputs": [
    {
     "data": {
      "image/png": "[encoded data removed]",
      "text/plain": [
       "<Figure size 720x432 with 4 Axes>"
      ]
     },
     "metadata": {
      "needs_background": "light"
     },
     "output_type": "display_data"
    }
   ],
   "source": [
    "\n",
    "from statsmodels.tsa.seasonal import seasonal_decompose\n",
    "res= seasonal_decompose(train, model='multiplicative')\n",
    "res.plot()\n",
    "plt.show()"
   ]
  },
  {
   "cell_type": "markdown",
   "metadata": {
    "papermill": {
     "duration": 0.073868,
     "end_time": "2020-10-07T12:17:26.053005",
     "exception": false,
     "start_time": "2020-10-07T12:17:25.979137",
     "status": "completed"
    },
    "tags": []
   },
   "source": [
    "Residual means Noise"
   ]
  },
  {
   "cell_type": "markdown",
   "metadata": {
    "papermill": {
     "duration": 0.074747,
     "end_time": "2020-10-07T12:17:26.202442",
     "exception": false,
     "start_time": "2020-10-07T12:17:26.127695",
     "status": "completed"
    },
    "tags": []
   },
   "source": [
    "We clearly see their is a increasing trend"
   ]
  },
  {
   "cell_type": "markdown",
   "metadata": {
    "papermill": {
     "duration": 0.122172,
     "end_time": "2020-10-07T12:17:26.399422",
     "exception": false,
     "start_time": "2020-10-07T12:17:26.277250",
     "status": "completed"
    },
    "tags": []
   },
   "source": [
    "Lets see the first 60 value of our data to understand seasonality more visually"
   ]
  },
  {
   "cell_type": "code",
   "execution_count": 11,
   "metadata": {
    "execution": {
     "iopub.execute_input": "2020-10-07T12:17:26.558592Z",
     "iopub.status.busy": "2020-10-07T12:17:26.557758Z",
     "iopub.status.idle": "2020-10-07T12:17:26.562744Z",
     "shell.execute_reply": "2020-10-07T12:17:26.561859Z"
    },
    "papermill": {
     "duration": 0.088179,
     "end_time": "2020-10-07T12:17:26.562900",
     "exception": false,
     "start_time": "2020-10-07T12:17:26.474721",
     "status": "completed"
    },
    "tags": []
   },
   "outputs": [
    {
     "data": {
      "text/plain": [
       "DATE\n",
       "1985-01-01    72.5052\n",
       "1985-02-01    70.6720\n",
       "1985-03-01    62.4502\n",
       "1985-04-01    57.4714\n",
       "1985-05-01    55.3151\n",
       "1985-06-01    58.0904\n",
       "1985-07-01    62.6202\n",
       "1985-08-01    63.2485\n",
       "1985-09-01    60.5846\n",
       "1985-10-01    56.3154\n",
       "1985-11-01    58.0005\n",
       "1985-12-01    68.7145\n",
       "1986-01-01    73.3057\n",
       "1986-02-01    67.9869\n",
       "1986-03-01    62.2221\n",
       "1986-04-01    57.0329\n",
       "1986-05-01    55.8137\n",
       "1986-06-01    59.9005\n",
       "1986-07-01    65.7655\n",
       "1986-08-01    64.4816\n",
       "1986-09-01    61.0005\n",
       "1986-10-01    57.5322\n",
       "1986-11-01    59.3417\n",
       "1986-12-01    68.1354\n",
       "1987-01-01    73.8152\n",
       "1987-02-01    70.0620\n",
       "1987-03-01    65.6100\n",
       "1987-04-01    60.1586\n",
       "1987-05-01    58.8734\n",
       "1987-06-01    63.8918\n",
       "1987-07-01    68.8694\n",
       "1987-08-01    70.0669\n",
       "1987-09-01    64.1151\n",
       "1987-10-01    60.3789\n",
       "1987-11-01    62.4643\n",
       "1987-12-01    70.5777\n",
       "1988-01-01    79.8703\n",
       "1988-02-01    76.1622\n",
       "1988-03-01    70.2928\n",
       "1988-04-01    63.2384\n",
       "1988-05-01    61.4065\n",
       "1988-06-01    67.1097\n",
       "1988-07-01    72.9816\n",
       "1988-08-01    75.7655\n",
       "1988-09-01    67.5152\n",
       "1988-10-01    63.2832\n",
       "1988-11-01    65.1078\n",
       "1988-12-01    73.8631\n",
       "1989-01-01    77.9188\n",
       "1989-02-01    76.6822\n",
       "1989-03-01    73.3523\n",
       "1989-04-01    65.1081\n",
       "1989-05-01    63.6892\n",
       "1989-06-01    68.4722\n",
       "1989-07-01    74.0301\n",
       "1989-08-01    75.0448\n",
       "1989-09-01    69.3053\n",
       "1989-10-01    65.8735\n",
       "1989-11-01    69.0706\n",
       "1989-12-01    84.1949\n",
       "Name: IPG2211A2N, dtype: float64"
      ]
     },
     "execution_count": 11,
     "metadata": {},
     "output_type": "execute_result"
    }
   ],
   "source": [
    "train[\"IPG2211A2N\"].iloc[:60]"
   ]
  },
  {
   "cell_type": "markdown",
   "metadata": {
    "papermill": {
     "duration": 0.075325,
     "end_time": "2020-10-07T12:17:26.713520",
     "exception": false,
     "start_time": "2020-10-07T12:17:26.638195",
     "status": "completed"
    },
    "tags": []
   },
   "source": [
    "U can  also see that after every year at January the electric production increases"
   ]
  },
  {
   "cell_type": "markdown",
   "metadata": {
    "papermill": {
     "duration": 0.074713,
     "end_time": "2020-10-07T12:17:26.863323",
     "exception": false,
     "start_time": "2020-10-07T12:17:26.788610",
     "status": "completed"
    },
    "tags": []
   },
   "source": [
    "so we can say that its a yearly seasonality"
   ]
  },
  {
   "cell_type": "markdown",
   "metadata": {
    "papermill": {
     "duration": 0.075024,
     "end_time": "2020-10-07T12:17:27.013520",
     "exception": false,
     "start_time": "2020-10-07T12:17:26.938496",
     "status": "completed"
    },
    "tags": []
   },
   "source": [
    "# STEP3-REMOVE TREND TO MADE DATA STATIONARY"
   ]
  },
  {
   "cell_type": "markdown",
   "metadata": {
    "papermill": {
     "duration": 0.074799,
     "end_time": "2020-10-07T12:17:27.163459",
     "exception": false,
     "start_time": "2020-10-07T12:17:27.088660",
     "status": "completed"
    },
    "tags": []
   },
   "source": [
    "# STATIONARITY"
   ]
  },
  {
   "cell_type": "markdown",
   "metadata": {
    "papermill": {
     "duration": 0.074907,
     "end_time": "2020-10-07T12:17:27.315892",
     "exception": false,
     "start_time": "2020-10-07T12:17:27.240985",
     "status": "completed"
    },
    "tags": []
   },
   "source": [
    "1-Data didnt have any trend and seasonality"
   ]
  },
  {
   "cell_type": "markdown",
   "metadata": {
    "papermill": {
     "duration": 0.075416,
     "end_time": "2020-10-07T12:17:27.468275",
     "exception": false,
     "start_time": "2020-10-07T12:17:27.392859",
     "status": "completed"
    },
    "tags": []
   },
   "source": [
    "2-In practical sense electric production is not increasing with time it is constant its does not have any seasonality effect"
   ]
  },
  {
   "cell_type": "markdown",
   "metadata": {
    "papermill": {
     "duration": 0.075282,
     "end_time": "2020-10-07T12:17:27.620103",
     "exception": false,
     "start_time": "2020-10-07T12:17:27.544821",
     "status": "completed"
    },
    "tags": []
   },
   "source": [
    "3-Why requires?Just like data needs to be normalized,features needs to be scaled before sending to ML algorithms,similarly time series algorithms wants data to be stationary"
   ]
  },
  {
   "cell_type": "markdown",
   "metadata": {
    "papermill": {
     "duration": 0.074594,
     "end_time": "2020-10-07T12:17:27.769982",
     "exception": false,
     "start_time": "2020-10-07T12:17:27.695388",
     "status": "completed"
    },
    "tags": []
   },
   "source": [
    "4-Mathematically-Means should be constant,standard deviation should be constant,auto-correlation should be same"
   ]
  },
  {
   "cell_type": "markdown",
   "metadata": {
    "papermill": {
     "duration": 0.074353,
     "end_time": "2020-10-07T12:17:27.919035",
     "exception": false,
     "start_time": "2020-10-07T12:17:27.844682",
     "status": "completed"
    },
    "tags": []
   },
   "source": [
    "5-we r going to check it using adfuller test(p-value will be used as a distinguisher (if p-value>0.05=Non-Stationary,if p-value<0.05=Stationary)"
   ]
  },
  {
   "cell_type": "markdown",
   "metadata": {
    "papermill": {
     "duration": 0.07457,
     "end_time": "2020-10-07T12:17:28.068487",
     "exception": false,
     "start_time": "2020-10-07T12:17:27.993917",
     "status": "completed"
    },
    "tags": []
   },
   "source": [
    "Lets do adfuller on our dataset"
   ]
  },
  {
   "cell_type": "code",
   "execution_count": 12,
   "metadata": {
    "execution": {
     "iopub.execute_input": "2020-10-07T12:17:28.225331Z",
     "iopub.status.busy": "2020-10-07T12:17:28.224451Z",
     "iopub.status.idle": "2020-10-07T12:17:28.380505Z",
     "shell.execute_reply": "2020-10-07T12:17:28.379741Z"
    },
    "papermill": {
     "duration": 0.236309,
     "end_time": "2020-10-07T12:17:28.380679",
     "exception": false,
     "start_time": "2020-10-07T12:17:28.144370",
     "status": "completed"
    },
    "tags": []
   },
   "outputs": [],
   "source": [
    "from statsmodels.tsa.stattools import adfuller"
   ]
  },
  {
   "cell_type": "code",
   "execution_count": 13,
   "metadata": {
    "execution": {
     "iopub.execute_input": "2020-10-07T12:17:28.537905Z",
     "iopub.status.busy": "2020-10-07T12:17:28.537132Z",
     "iopub.status.idle": "2020-10-07T12:17:28.540233Z",
     "shell.execute_reply": "2020-10-07T12:17:28.539453Z"
    },
    "papermill": {
     "duration": 0.083497,
     "end_time": "2020-10-07T12:17:28.540363",
     "exception": false,
     "start_time": "2020-10-07T12:17:28.456866",
     "status": "completed"
    },
    "tags": []
   },
   "outputs": [],
   "source": [
    "def stest(x):\n",
    "    result = adfuller(x)\n",
    "    print(result[1])"
   ]
  },
  {
   "cell_type": "code",
   "execution_count": 14,
   "metadata": {
    "execution": {
     "iopub.execute_input": "2020-10-07T12:17:28.698269Z",
     "iopub.status.busy": "2020-10-07T12:17:28.697442Z",
     "iopub.status.idle": "2020-10-07T12:17:28.771849Z",
     "shell.execute_reply": "2020-10-07T12:17:28.771168Z"
    },
    "papermill": {
     "duration": 0.155536,
     "end_time": "2020-10-07T12:17:28.771991",
     "exception": false,
     "start_time": "2020-10-07T12:17:28.616455",
     "status": "completed"
    },
    "tags": []
   },
   "outputs": [
    {
     "name": "stdout",
     "output_type": "stream",
     "text": [
      "0.1862146911658708\n"
     ]
    }
   ],
   "source": [
    "stest(train.iloc[:,0].values)"
   ]
  },
  {
   "cell_type": "markdown",
   "metadata": {
    "papermill": {
     "duration": 0.085749,
     "end_time": "2020-10-07T12:17:28.943885",
     "exception": false,
     "start_time": "2020-10-07T12:17:28.858136",
     "status": "completed"
    },
    "tags": []
   },
   "source": [
    "0.18621>0.05 data is non stationary"
   ]
  },
  {
   "cell_type": "markdown",
   "metadata": {
    "papermill": {
     "duration": 0.08539,
     "end_time": "2020-10-07T12:17:29.115379",
     "exception": false,
     "start_time": "2020-10-07T12:17:29.029989",
     "status": "completed"
    },
    "tags": []
   },
   "source": [
    "Lets make it stationary"
   ]
  },
  {
   "cell_type": "markdown",
   "metadata": {
    "papermill": {
     "duration": 0.076119,
     "end_time": "2020-10-07T12:17:29.269931",
     "exception": false,
     "start_time": "2020-10-07T12:17:29.193812",
     "status": "completed"
    },
    "tags": []
   },
   "source": [
    "we will use differencing method for removing trend and seasonality"
   ]
  },
  {
   "cell_type": "markdown",
   "metadata": {
    "papermill": {
     "duration": 0.075848,
     "end_time": "2020-10-07T12:17:29.422764",
     "exception": false,
     "start_time": "2020-10-07T12:17:29.346916",
     "status": "completed"
    },
    "tags": []
   },
   "source": [
    "For eg.:\n",
    "if our data is like:[1,2,3,4,5,6,7,8,9]"
   ]
  },
  {
   "cell_type": "markdown",
   "metadata": {
    "papermill": {
     "duration": 0.075809,
     "end_time": "2020-10-07T12:17:29.574712",
     "exception": false,
     "start_time": "2020-10-07T12:17:29.498903",
     "status": "completed"
    },
    "tags": []
   },
   "source": [
    "If we subtract each two adjacent digit then our data will be:[2-1,4-3,5-4,6-5,7-6,8-7,9-8]:[1,1,1,1,1,1,1,1...]"
   ]
  },
  {
   "cell_type": "markdown",
   "metadata": {
    "papermill": {
     "duration": 0.078984,
     "end_time": "2020-10-07T12:17:29.731016",
     "exception": false,
     "start_time": "2020-10-07T12:17:29.652032",
     "status": "completed"
    },
    "tags": []
   },
   "source": [
    "Point to remember:Removing trend didnot mean that we should make the value constant for whole interval,it only means that the MEAN should be same for sub-interval in a interval"
   ]
  },
  {
   "cell_type": "code",
   "execution_count": 15,
   "metadata": {
    "execution": {
     "iopub.execute_input": "2020-10-07T12:17:29.888995Z",
     "iopub.status.busy": "2020-10-07T12:17:29.888145Z",
     "iopub.status.idle": "2020-10-07T12:17:29.892654Z",
     "shell.execute_reply": "2020-10-07T12:17:29.891883Z"
    },
    "papermill": {
     "duration": 0.085298,
     "end_time": "2020-10-07T12:17:29.892782",
     "exception": false,
     "start_time": "2020-10-07T12:17:29.807484",
     "status": "completed"
    },
    "tags": []
   },
   "outputs": [
    {
     "data": {
      "text/plain": [
       "397"
      ]
     },
     "execution_count": 15,
     "metadata": {},
     "output_type": "execute_result"
    }
   ],
   "source": [
    "len(train)\n"
   ]
  },
  {
   "cell_type": "code",
   "execution_count": 16,
   "metadata": {
    "execution": {
     "iopub.execute_input": "2020-10-07T12:17:30.059194Z",
     "iopub.status.busy": "2020-10-07T12:17:30.054136Z",
     "iopub.status.idle": "2020-10-07T12:17:30.071598Z",
     "shell.execute_reply": "2020-10-07T12:17:30.072140Z"
    },
    "papermill": {
     "duration": 0.10317,
     "end_time": "2020-10-07T12:17:30.072299",
     "exception": false,
     "start_time": "2020-10-07T12:17:29.969129",
     "status": "completed"
    },
    "tags": []
   },
   "outputs": [],
   "source": [
    "a=[]\n",
    "a.append(train[\"IPG2211A2N\"].iloc[0])\n",
    "for i in range(396):\n",
    "     z=train[\"IPG2211A2N\"].iloc[i+1]-train[\"IPG2211A2N\"].iloc[i]\n",
    "     a.append(z)"
   ]
  },
  {
   "cell_type": "code",
   "execution_count": 17,
   "metadata": {
    "execution": {
     "iopub.execute_input": "2020-10-07T12:17:30.233459Z",
     "iopub.status.busy": "2020-10-07T12:17:30.232362Z",
     "iopub.status.idle": "2020-10-07T12:17:30.236717Z",
     "shell.execute_reply": "2020-10-07T12:17:30.237405Z"
    },
    "papermill": {
     "duration": 0.088107,
     "end_time": "2020-10-07T12:17:30.237584",
     "exception": false,
     "start_time": "2020-10-07T12:17:30.149477",
     "status": "completed"
    },
    "tags": []
   },
   "outputs": [
    {
     "data": {
      "text/plain": [
       "[72.5052, -1.833200000000005, -8.221799999999995, -4.9788, -2.1563000000000017]"
      ]
     },
     "execution_count": 17,
     "metadata": {},
     "output_type": "execute_result"
    }
   ],
   "source": [
    "a[:5]"
   ]
  },
  {
   "cell_type": "code",
   "execution_count": 18,
   "metadata": {
    "execution": {
     "iopub.execute_input": "2020-10-07T12:17:30.404296Z",
     "iopub.status.busy": "2020-10-07T12:17:30.398120Z",
     "iopub.status.idle": "2020-10-07T12:17:30.598804Z",
     "shell.execute_reply": "2020-10-07T12:17:30.599341Z"
    },
    "papermill": {
     "duration": 0.284343,
     "end_time": "2020-10-07T12:17:30.599501",
     "exception": false,
     "start_time": "2020-10-07T12:17:30.315158",
     "status": "completed"
    },
    "tags": []
   },
   "outputs": [
    {
     "data": {
      "text/plain": [
       "[<matplotlib.lines.Line2D at 0x13913a17348>]"
      ]
     },
     "execution_count": 18,
     "metadata": {},
     "output_type": "execute_result"
    },
    {
     "data": {
      "image/png": "[encoded data removed]",
      "text/plain": [
       "<Figure size 720x432 with 1 Axes>"
      ]
     },
     "metadata": {
      "needs_background": "light"
     },
     "output_type": "display_data"
    }
   ],
   "source": [
    "plt.plot(a)"
   ]
  },
  {
   "cell_type": "markdown",
   "metadata": {
    "papermill": {
     "duration": 0.080233,
     "end_time": "2020-10-07T12:17:30.759911",
     "exception": false,
     "start_time": "2020-10-07T12:17:30.679678",
     "status": "completed"
    },
    "tags": []
   },
   "source": [
    "Now lets go for adfuller test"
   ]
  },
  {
   "cell_type": "code",
   "execution_count": 19,
   "metadata": {
    "execution": {
     "iopub.execute_input": "2020-10-07T12:17:30.925426Z",
     "iopub.status.busy": "2020-10-07T12:17:30.924684Z",
     "iopub.status.idle": "2020-10-07T12:17:30.949978Z",
     "shell.execute_reply": "2020-10-07T12:17:30.949303Z"
    },
    "papermill": {
     "duration": 0.110744,
     "end_time": "2020-10-07T12:17:30.950164",
     "exception": false,
     "start_time": "2020-10-07T12:17:30.839420",
     "status": "completed"
    },
    "tags": []
   },
   "outputs": [
    {
     "name": "stdout",
     "output_type": "stream",
     "text": [
      "3.1454921878386305e-09\n"
     ]
    }
   ],
   "source": [
    "stest(a)"
   ]
  },
  {
   "cell_type": "markdown",
   "metadata": {
    "papermill": {
     "duration": 0.081518,
     "end_time": "2020-10-07T12:17:31.112620",
     "exception": false,
     "start_time": "2020-10-07T12:17:31.031102",
     "status": "completed"
    },
    "tags": []
   },
   "source": [
    "0.0003875068"
   ]
  },
  {
   "cell_type": "markdown",
   "metadata": {
    "papermill": {
     "duration": 0.079806,
     "end_time": "2020-10-07T12:17:31.274155",
     "exception": false,
     "start_time": "2020-10-07T12:17:31.194349",
     "status": "completed"
    },
    "tags": []
   },
   "source": [
    "clearly 0.05>0.0003875068"
   ]
  },
  {
   "cell_type": "markdown",
   "metadata": {
    "papermill": {
     "duration": 0.079943,
     "end_time": "2020-10-07T12:17:31.435167",
     "exception": false,
     "start_time": "2020-10-07T12:17:31.355224",
     "status": "completed"
    },
    "tags": []
   },
   "source": [
    "Our Data is Stationary"
   ]
  },
  {
   "cell_type": "code",
   "execution_count": 20,
   "metadata": {
    "execution": {
     "iopub.execute_input": "2020-10-07T12:17:31.608557Z",
     "iopub.status.busy": "2020-10-07T12:17:31.607399Z",
     "iopub.status.idle": "2020-10-07T12:17:31.610916Z",
     "shell.execute_reply": "2020-10-07T12:17:31.610304Z"
    },
    "papermill": {
     "duration": 0.092229,
     "end_time": "2020-10-07T12:17:31.611043",
     "exception": false,
     "start_time": "2020-10-07T12:17:31.518814",
     "status": "completed"
    },
    "tags": []
   },
   "outputs": [],
   "source": [
    "t=train[\"IPG2211A2N\"].to_dict()\n",
    "x={}\n",
    "l=0\n",
    "for i,j in t.items():\n",
    "       x.update({i:a[l]})\n",
    "       l=l+1\n",
    "   "
   ]
  },
  {
   "cell_type": "code",
   "execution_count": 21,
   "metadata": {
    "execution": {
     "iopub.execute_input": "2020-10-07T12:17:31.861102Z",
     "iopub.status.busy": "2020-10-07T12:17:31.860130Z",
     "iopub.status.idle": "2020-10-07T12:17:31.863213Z",
     "shell.execute_reply": "2020-10-07T12:17:31.862627Z"
    },
    "papermill": {
     "duration": 0.170769,
     "end_time": "2020-10-07T12:17:31.863344",
     "exception": false,
     "start_time": "2020-10-07T12:17:31.692575",
     "status": "completed"
    },
    "tags": []
   },
   "outputs": [],
   "source": [
    "xe=pd.Series(x)"
   ]
  },
  {
   "cell_type": "code",
   "execution_count": 22,
   "metadata": {
    "execution": {
     "iopub.execute_input": "2020-10-07T12:17:32.036071Z",
     "iopub.status.busy": "2020-10-07T12:17:32.030641Z",
     "iopub.status.idle": "2020-10-07T12:17:32.220187Z",
     "shell.execute_reply": "2020-10-07T12:17:32.219600Z"
    },
    "papermill": {
     "duration": 0.275952,
     "end_time": "2020-10-07T12:17:32.220315",
     "exception": false,
     "start_time": "2020-10-07T12:17:31.944363",
     "status": "completed"
    },
    "tags": []
   },
   "outputs": [
    {
     "data": {
      "text/plain": [
       "[<matplotlib.lines.Line2D at 0x139172e9a88>]"
      ]
     },
     "execution_count": 22,
     "metadata": {},
     "output_type": "execute_result"
    },
    {
     "data": {
      "image/png": "[encoded data removed]",
      "text/plain": [
       "<Figure size 720x432 with 1 Axes>"
      ]
     },
     "metadata": {
      "needs_background": "light"
     },
     "output_type": "display_data"
    }
   ],
   "source": [
    "plt.plot(xe)"
   ]
  },
  {
   "cell_type": "markdown",
   "metadata": {
    "papermill": {
     "duration": 0.096905,
     "end_time": "2020-10-07T12:17:32.418628",
     "exception": false,
     "start_time": "2020-10-07T12:17:32.321723",
     "status": "completed"
    },
    "tags": []
   },
   "source": [
    "# ARIMA"
   ]
  },
  {
   "cell_type": "markdown",
   "metadata": {
    "papermill": {
     "duration": 0.082753,
     "end_time": "2020-10-07T12:17:32.589224",
     "exception": false,
     "start_time": "2020-10-07T12:17:32.506471",
     "status": "completed"
    },
    "tags": []
   },
   "source": [
    "ARIMA-{AutoRegression}{Integrated}{Moving Average}"
   ]
  },
  {
   "cell_type": "markdown",
   "metadata": {
    "papermill": {
     "duration": 0.082318,
     "end_time": "2020-10-07T12:17:32.755768",
     "exception": false,
     "start_time": "2020-10-07T12:17:32.673450",
     "status": "completed"
    },
    "tags": []
   },
   "source": [
    "Auto Regression=It simply means values at present time is dependent on which-which previous time instant"
   ]
  },
  {
   "cell_type": "markdown",
   "metadata": {
    "papermill": {
     "duration": 0.082381,
     "end_time": "2020-10-07T12:17:32.920848",
     "exception": false,
     "start_time": "2020-10-07T12:17:32.838467",
     "status": "completed"
    },
    "tags": []
   },
   "source": [
    "m(t)=Am(t-1)+Bm(t-3)+Cm(t-4)+...."
   ]
  },
  {
   "cell_type": "markdown",
   "metadata": {
    "papermill": {
     "duration": 0.082608,
     "end_time": "2020-10-07T12:17:33.086370",
     "exception": false,
     "start_time": "2020-10-07T12:17:33.003762",
     "status": "completed"
    },
    "tags": []
   },
   "source": [
    "In above eg. m(t) is present time and it clearly depends on lag of 1,lag of 3,lag of 4 time instant"
   ]
  },
  {
   "cell_type": "markdown",
   "metadata": {
    "papermill": {
     "duration": 0.082208,
     "end_time": "2020-10-07T12:17:33.253477",
     "exception": false,
     "start_time": "2020-10-07T12:17:33.171269",
     "status": "completed"
    },
    "tags": []
   },
   "source": [
    "PACF=Partial auto correlation value is used to calculate AR value(when line is above blue region we will count those value and total will be our AR value for our ARIMA model)"
   ]
  },
  {
   "cell_type": "code",
   "execution_count": 23,
   "metadata": {
    "execution": {
     "iopub.execute_input": "2020-10-07T12:17:33.425580Z",
     "iopub.status.busy": "2020-10-07T12:17:33.424763Z",
     "iopub.status.idle": "2020-10-07T12:17:33.628062Z",
     "shell.execute_reply": "2020-10-07T12:17:33.628614Z"
    },
    "papermill": {
     "duration": 0.291946,
     "end_time": "2020-10-07T12:17:33.628791",
     "exception": false,
     "start_time": "2020-10-07T12:17:33.336845",
     "status": "completed"
    },
    "tags": []
   },
   "outputs": [
    {
     "data": {
      "image/png": "[encoded data removed]",
      "text/plain": [
       "<Figure size 720x432 with 1 Axes>"
      ]
     },
     "metadata": {
      "needs_background": "light"
     },
     "output_type": "display_data"
    }
   ],
   "source": [
    "from statsmodels.graphics.tsaplots import plot_acf,plot_pacf\n",
    "plot=plot_pacf(xe,lags=10)"
   ]
  },
  {
   "cell_type": "markdown",
   "metadata": {
    "papermill": {
     "duration": 0.082997,
     "end_time": "2020-10-07T12:17:33.795459",
     "exception": false,
     "start_time": "2020-10-07T12:17:33.712462",
     "status": "completed"
    },
    "tags": []
   },
   "source": [
    "> AR=3(most significant values)"
   ]
  },
  {
   "cell_type": "markdown",
   "metadata": {
    "papermill": {
     "duration": 0.083133,
     "end_time": "2020-10-07T12:17:33.961888",
     "exception": false,
     "start_time": "2020-10-07T12:17:33.878755",
     "status": "completed"
    },
    "tags": []
   },
   "source": [
    "Moving Average=It is calculated using Autocorrelation (when the line goes above blue region we will count them all the total will be our MA)"
   ]
  },
  {
   "cell_type": "code",
   "execution_count": 24,
   "metadata": {
    "execution": {
     "iopub.execute_input": "2020-10-07T12:17:34.140874Z",
     "iopub.status.busy": "2020-10-07T12:17:34.140106Z",
     "iopub.status.idle": "2020-10-07T12:17:34.329761Z",
     "shell.execute_reply": "2020-10-07T12:17:34.329138Z"
    },
    "papermill": {
     "duration": 0.284583,
     "end_time": "2020-10-07T12:17:34.329899",
     "exception": false,
     "start_time": "2020-10-07T12:17:34.045316",
     "status": "completed"
    },
    "tags": []
   },
   "outputs": [
    {
     "data": {
      "image/png": "[encoded data removed]",
      "text/plain": [
       "<Figure size 720x432 with 1 Axes>"
      ]
     },
     "metadata": {
      "needs_background": "light"
     },
     "output_type": "display_data"
    }
   ],
   "source": [
    "acf_plot=plot_acf(xe,lags=10)"
   ]
  },
  {
   "cell_type": "markdown",
   "metadata": {
    "papermill": {
     "duration": 0.085975,
     "end_time": "2020-10-07T12:17:34.500652",
     "exception": false,
     "start_time": "2020-10-07T12:17:34.414677",
     "status": "completed"
    },
    "tags": []
   },
   "source": [
    "we are counting most significant line MA=3)"
   ]
  },
  {
   "cell_type": "markdown",
   "metadata": {
    "papermill": {
     "duration": 0.085798,
     "end_time": "2020-10-07T12:17:34.671256",
     "exception": false,
     "start_time": "2020-10-07T12:17:34.585458",
     "status": "completed"
    },
    "tags": []
   },
   "source": [
    "Train/Test Split"
   ]
  },
  {
   "cell_type": "code",
   "execution_count": 25,
   "metadata": {
    "execution": {
     "iopub.execute_input": "2020-10-07T12:17:34.849082Z",
     "iopub.status.busy": "2020-10-07T12:17:34.847928Z",
     "iopub.status.idle": "2020-10-07T12:17:34.852371Z",
     "shell.execute_reply": "2020-10-07T12:17:34.851659Z"
    },
    "papermill": {
     "duration": 0.095214,
     "end_time": "2020-10-07T12:17:34.852490",
     "exception": false,
     "start_time": "2020-10-07T12:17:34.757276",
     "status": "completed"
    },
    "tags": []
   },
   "outputs": [
    {
     "data": {
      "text/plain": [
       "397"
      ]
     },
     "execution_count": 25,
     "metadata": {},
     "output_type": "execute_result"
    }
   ],
   "source": [
    "len(xe)"
   ]
  },
  {
   "cell_type": "code",
   "execution_count": 26,
   "metadata": {
    "execution": {
     "iopub.execute_input": "2020-10-07T12:17:35.028492Z",
     "iopub.status.busy": "2020-10-07T12:17:35.027745Z",
     "iopub.status.idle": "2020-10-07T12:17:35.031770Z",
     "shell.execute_reply": "2020-10-07T12:17:35.030981Z"
    },
    "papermill": {
     "duration": 0.094278,
     "end_time": "2020-10-07T12:17:35.031896",
     "exception": false,
     "start_time": "2020-10-07T12:17:34.937618",
     "status": "completed"
    },
    "tags": []
   },
   "outputs": [],
   "source": [
    "xtrain=xe[0:330]\n",
    "xtest=xe[330:397]"
   ]
  },
  {
   "cell_type": "code",
   "execution_count": 27,
   "metadata": {
    "execution": {
     "iopub.execute_input": "2020-10-07T12:17:35.210778Z",
     "iopub.status.busy": "2020-10-07T12:17:35.209623Z",
     "iopub.status.idle": "2020-10-07T12:17:35.214661Z",
     "shell.execute_reply": "2020-10-07T12:17:35.213930Z"
    },
    "papermill": {
     "duration": 0.096902,
     "end_time": "2020-10-07T12:17:35.214782",
     "exception": false,
     "start_time": "2020-10-07T12:17:35.117880",
     "status": "completed"
    },
    "tags": []
   },
   "outputs": [
    {
     "data": {
      "text/plain": [
       "330"
      ]
     },
     "execution_count": 27,
     "metadata": {},
     "output_type": "execute_result"
    }
   ],
   "source": [
    "len(xtrain)"
   ]
  },
  {
   "cell_type": "code",
   "execution_count": 28,
   "metadata": {
    "execution": {
     "iopub.execute_input": "2020-10-07T12:17:35.396113Z",
     "iopub.status.busy": "2020-10-07T12:17:35.395023Z",
     "iopub.status.idle": "2020-10-07T12:17:35.399933Z",
     "shell.execute_reply": "2020-10-07T12:17:35.399324Z"
    },
    "papermill": {
     "duration": 0.099239,
     "end_time": "2020-10-07T12:17:35.400074",
     "exception": false,
     "start_time": "2020-10-07T12:17:35.300835",
     "status": "completed"
    },
    "tags": []
   },
   "outputs": [
    {
     "data": {
      "text/plain": [
       "1985-01-01    72.5052\n",
       "1985-02-01    -1.8332\n",
       "1985-03-01    -8.2218\n",
       "1985-04-01    -4.9788\n",
       "1985-05-01    -2.1563\n",
       "dtype: float64"
      ]
     },
     "execution_count": 28,
     "metadata": {},
     "output_type": "execute_result"
    }
   ],
   "source": [
    "xtrain.head()"
   ]
  },
  {
   "cell_type": "code",
   "execution_count": 29,
   "metadata": {
    "execution": {
     "iopub.execute_input": "2020-10-07T12:17:35.607433Z",
     "iopub.status.busy": "2020-10-07T12:17:35.606494Z",
     "iopub.status.idle": "2020-10-07T12:17:35.609105Z",
     "shell.execute_reply": "2020-10-07T12:17:35.609657Z"
    },
    "papermill": {
     "duration": 0.113743,
     "end_time": "2020-10-07T12:17:35.609813",
     "exception": false,
     "start_time": "2020-10-07T12:17:35.496070",
     "status": "completed"
    },
    "tags": []
   },
   "outputs": [],
   "source": [
    "from statsmodels.tsa.arima_model import ARIMA"
   ]
  },
  {
   "cell_type": "code",
   "execution_count": 30,
   "metadata": {
    "execution": {
     "iopub.execute_input": "2020-10-07T12:17:35.793816Z",
     "iopub.status.busy": "2020-10-07T12:17:35.793027Z",
     "iopub.status.idle": "2020-10-07T12:17:35.808717Z",
     "shell.execute_reply": "2020-10-07T12:17:35.809410Z"
    },
    "papermill": {
     "duration": 0.11015,
     "end_time": "2020-10-07T12:17:35.809587",
     "exception": false,
     "start_time": "2020-10-07T12:17:35.699437",
     "status": "completed"
    },
    "tags": []
   },
   "outputs": [
    {
     "name": "stderr",
     "output_type": "stream",
     "text": [
      "E:\\Anaconda3\\lib\\site-packages\\statsmodels\\tsa\\base\\tsa_model.py:165: ValueWarning: No frequency information was provided, so inferred frequency MS will be used.\n",
      "  % freq, ValueWarning)\n"
     ]
    }
   ],
   "source": [
    "xee=ARIMA(xtrain,order=(3,0,3))"
   ]
  },
  {
   "cell_type": "code",
   "execution_count": 31,
   "metadata": {
    "execution": {
     "iopub.execute_input": "2020-10-07T12:17:35.991838Z",
     "iopub.status.busy": "2020-10-07T12:17:35.990479Z",
     "iopub.status.idle": "2020-10-07T12:17:36.749127Z",
     "shell.execute_reply": "2020-10-07T12:17:36.748413Z"
    },
    "papermill": {
     "duration": 0.85229,
     "end_time": "2020-10-07T12:17:36.749258",
     "exception": false,
     "start_time": "2020-10-07T12:17:35.896968",
     "status": "completed"
    },
    "tags": []
   },
   "outputs": [
    {
     "name": "stderr",
     "output_type": "stream",
     "text": [
      "E:\\Anaconda3\\lib\\site-packages\\statsmodels\\tsa\\tsatools.py:668: RuntimeWarning: invalid value encountered in true_divide\n",
      "  newparams = ((1-np.exp(-params))/(1+np.exp(-params))).copy()\n",
      "E:\\Anaconda3\\lib\\site-packages\\statsmodels\\tsa\\tsatools.py:669: RuntimeWarning: invalid value encountered in true_divide\n",
      "  tmp = ((1-np.exp(-params))/(1+np.exp(-params))).copy()\n",
      "E:\\Anaconda3\\lib\\site-packages\\statsmodels\\base\\model.py:492: HessianInversionWarning: Inverting hessian failed, no bse or cov_params available\n",
      "  'available', HessianInversionWarning)\n",
      "E:\\Anaconda3\\lib\\site-packages\\statsmodels\\base\\model.py:512: ConvergenceWarning: Maximum Likelihood optimization failed to converge. Check mle_retvals\n",
      "  \"Check mle_retvals\", ConvergenceWarning)\n"
     ]
    }
   ],
   "source": [
    "ttt=xee.fit()"
   ]
  },
  {
   "cell_type": "code",
   "execution_count": 32,
   "metadata": {
    "execution": {
     "iopub.execute_input": "2020-10-07T12:17:36.933360Z",
     "iopub.status.busy": "2020-10-07T12:17:36.932200Z",
     "iopub.status.idle": "2020-10-07T12:17:36.938902Z",
     "shell.execute_reply": "2020-10-07T12:17:36.938165Z"
    },
    "papermill": {
     "duration": 0.10027,
     "end_time": "2020-10-07T12:17:36.939021",
     "exception": false,
     "start_time": "2020-10-07T12:17:36.838751",
     "status": "completed"
    },
    "tags": []
   },
   "outputs": [
    {
     "data": {
      "text/plain": [
       "2026.9505868270646"
      ]
     },
     "execution_count": 32,
     "metadata": {},
     "output_type": "execute_result"
    }
   ],
   "source": [
    "ttt.aic"
   ]
  },
  {
   "cell_type": "code",
   "execution_count": 33,
   "metadata": {
    "execution": {
     "iopub.execute_input": "2020-10-07T12:17:37.125655Z",
     "iopub.status.busy": "2020-10-07T12:17:37.124413Z",
     "iopub.status.idle": "2020-10-07T12:17:37.131394Z",
     "shell.execute_reply": "2020-10-07T12:17:37.130781Z"
    },
    "papermill": {
     "duration": 0.102628,
     "end_time": "2020-10-07T12:17:37.131522",
     "exception": false,
     "start_time": "2020-10-07T12:17:37.028894",
     "status": "completed"
    },
    "tags": []
   },
   "outputs": [],
   "source": [
    "tt=ttt.forecast(steps=67)[0]"
   ]
  },
  {
   "cell_type": "code",
   "execution_count": 34,
   "metadata": {
    "execution": {
     "iopub.execute_input": "2020-10-07T12:17:37.317633Z",
     "iopub.status.busy": "2020-10-07T12:17:37.316559Z",
     "iopub.status.idle": "2020-10-07T12:17:37.321271Z",
     "shell.execute_reply": "2020-10-07T12:17:37.320574Z"
    },
    "papermill": {
     "duration": 0.100352,
     "end_time": "2020-10-07T12:17:37.321402",
     "exception": false,
     "start_time": "2020-10-07T12:17:37.221050",
     "status": "completed"
    },
    "tags": []
   },
   "outputs": [
    {
     "data": {
      "text/plain": [
       "array([  8.91488416,  -3.92562535, -12.11348228,  -8.11814129,\n",
       "         4.05546975,  12.21680495,   8.19319204,  -3.98616681,\n",
       "       -12.12499429,  -8.07315725])"
      ]
     },
     "execution_count": 34,
     "metadata": {},
     "output_type": "execute_result"
    }
   ],
   "source": [
    "tt[:10]"
   ]
  },
  {
   "cell_type": "code",
   "execution_count": 35,
   "metadata": {
    "execution": {
     "iopub.execute_input": "2020-10-07T12:17:37.508999Z",
     "iopub.status.busy": "2020-10-07T12:17:37.508210Z",
     "iopub.status.idle": "2020-10-07T12:17:37.514111Z",
     "shell.execute_reply": "2020-10-07T12:17:37.514808Z"
    },
    "papermill": {
     "duration": 0.102752,
     "end_time": "2020-10-07T12:17:37.514979",
     "exception": false,
     "start_time": "2020-10-07T12:17:37.412227",
     "status": "completed"
    },
    "tags": []
   },
   "outputs": [
    {
     "data": {
      "text/plain": [
       "array([ 11.8957,  -3.1756, -13.117 ,  -6.3626,   3.9612,  10.9305,\n",
       "        10.2288,  -8.767 ,  -3.7392, -11.9856])"
      ]
     },
     "execution_count": 35,
     "metadata": {},
     "output_type": "execute_result"
    }
   ],
   "source": [
    "xtest.values[:10]"
   ]
  },
  {
   "cell_type": "code",
   "execution_count": 36,
   "metadata": {
    "execution": {
     "iopub.execute_input": "2020-10-07T12:17:37.714466Z",
     "iopub.status.busy": "2020-10-07T12:17:37.713523Z",
     "iopub.status.idle": "2020-10-07T12:17:37.717885Z",
     "shell.execute_reply": "2020-10-07T12:17:37.717250Z"
    },
    "papermill": {
     "duration": 0.101217,
     "end_time": "2020-10-07T12:17:37.718004",
     "exception": false,
     "start_time": "2020-10-07T12:17:37.616787",
     "status": "completed"
    },
    "tags": []
   },
   "outputs": [
    {
     "data": {
      "text/plain": [
       "67"
      ]
     },
     "execution_count": 36,
     "metadata": {},
     "output_type": "execute_result"
    }
   ],
   "source": [
    "xtest.size"
   ]
  },
  {
   "cell_type": "markdown",
   "metadata": {
    "papermill": {
     "duration": 0.091116,
     "end_time": "2020-10-07T12:17:37.900935",
     "exception": false,
     "start_time": "2020-10-07T12:17:37.809819",
     "status": "completed"
    },
    "tags": []
   },
   "source": [
    "Lets compare our forecasted value but before that we have to convert those forecast value to their original format(to remove trend we have subtracted one value from other now we have to reverse that process to get original value back)"
   ]
  },
  {
   "cell_type": "code",
   "execution_count": 37,
   "metadata": {
    "execution": {
     "iopub.execute_input": "2020-10-07T12:17:38.089865Z",
     "iopub.status.busy": "2020-10-07T12:17:38.088762Z",
     "iopub.status.idle": "2020-10-07T12:17:38.092853Z",
     "shell.execute_reply": "2020-10-07T12:17:38.093578Z"
    },
    "papermill": {
     "duration": 0.101835,
     "end_time": "2020-10-07T12:17:38.093730",
     "exception": false,
     "start_time": "2020-10-07T12:17:37.991895",
     "status": "completed"
    },
    "tags": []
   },
   "outputs": [
    {
     "data": {
      "text/plain": [
       "11.895700000000005"
      ]
     },
     "execution_count": 37,
     "metadata": {},
     "output_type": "execute_result"
    }
   ],
   "source": [
    "xtest[0]"
   ]
  },
  {
   "cell_type": "code",
   "execution_count": 38,
   "metadata": {
    "execution": {
     "iopub.execute_input": "2020-10-07T12:17:38.286015Z",
     "iopub.status.busy": "2020-10-07T12:17:38.285081Z",
     "iopub.status.idle": "2020-10-07T12:17:38.288116Z",
     "shell.execute_reply": "2020-10-07T12:17:38.287368Z"
    },
    "papermill": {
     "duration": 0.10272,
     "end_time": "2020-10-07T12:17:38.288237",
     "exception": false,
     "start_time": "2020-10-07T12:17:38.185517",
     "status": "completed"
    },
    "tags": []
   },
   "outputs": [],
   "source": [
    "qqq=[]\n",
    "a=0\n",
    "for i in range(330):\n",
    "    a=a+xtrain[i]\n",
    "    qqq.append(a)"
   ]
  },
  {
   "cell_type": "code",
   "execution_count": 39,
   "metadata": {
    "execution": {
     "iopub.execute_input": "2020-10-07T12:17:38.481070Z",
     "iopub.status.busy": "2020-10-07T12:17:38.480115Z",
     "iopub.status.idle": "2020-10-07T12:17:38.484631Z",
     "shell.execute_reply": "2020-10-07T12:17:38.483905Z"
    },
    "papermill": {
     "duration": 0.103131,
     "end_time": "2020-10-07T12:17:38.484750",
     "exception": false,
     "start_time": "2020-10-07T12:17:38.381619",
     "status": "completed"
    },
    "tags": []
   },
   "outputs": [
    {
     "data": {
      "text/plain": [
       "105.2722"
      ]
     },
     "execution_count": 39,
     "metadata": {},
     "output_type": "execute_result"
    }
   ],
   "source": [
    "train[\"IPG2211A2N\"].iloc[335]"
   ]
  },
  {
   "cell_type": "code",
   "execution_count": 40,
   "metadata": {
    "execution": {
     "iopub.execute_input": "2020-10-07T12:17:38.677311Z",
     "iopub.status.busy": "2020-10-07T12:17:38.676185Z",
     "iopub.status.idle": "2020-10-07T12:17:38.680945Z",
     "shell.execute_reply": "2020-10-07T12:17:38.680217Z"
    },
    "papermill": {
     "duration": 0.103883,
     "end_time": "2020-10-07T12:17:38.681069",
     "exception": false,
     "start_time": "2020-10-07T12:17:38.577186",
     "status": "completed"
    },
    "tags": []
   },
   "outputs": [
    {
     "data": {
      "text/plain": [
       "101.14"
      ]
     },
     "execution_count": 40,
     "metadata": {},
     "output_type": "execute_result"
    }
   ],
   "source": [
    "qqq[329]"
   ]
  },
  {
   "cell_type": "markdown",
   "metadata": {
    "papermill": {
     "duration": 0.092683,
     "end_time": "2020-10-07T12:17:38.866913",
     "exception": false,
     "start_time": "2020-10-07T12:17:38.774230",
     "status": "completed"
    },
    "tags": []
   },
   "source": [
    "Great qqq[329]=101.14 we will use this value to find our forecast value and xtest value"
   ]
  },
  {
   "cell_type": "code",
   "execution_count": 41,
   "metadata": {
    "execution": {
     "iopub.execute_input": "2020-10-07T12:17:39.059184Z",
     "iopub.status.busy": "2020-10-07T12:17:39.058419Z",
     "iopub.status.idle": "2020-10-07T12:17:39.061224Z",
     "shell.execute_reply": "2020-10-07T12:17:39.061764Z"
    },
    "papermill": {
     "duration": 0.102409,
     "end_time": "2020-10-07T12:17:39.061920",
     "exception": false,
     "start_time": "2020-10-07T12:17:38.959511",
     "status": "completed"
    },
    "tags": []
   },
   "outputs": [],
   "source": [
    "def pv(web):\n",
    "        qqq=[]\n",
    "        a=101.4\n",
    "        for i in range(67):\n",
    "            a=a+web[i]\n",
    "            qqq.append(a)\n",
    "        return qqq"
   ]
  },
  {
   "cell_type": "code",
   "execution_count": 42,
   "metadata": {
    "execution": {
     "iopub.execute_input": "2020-10-07T12:17:39.256058Z",
     "iopub.status.busy": "2020-10-07T12:17:39.255295Z",
     "iopub.status.idle": "2020-10-07T12:17:39.258905Z",
     "shell.execute_reply": "2020-10-07T12:17:39.258288Z"
    },
    "papermill": {
     "duration": 0.103137,
     "end_time": "2020-10-07T12:17:39.259038",
     "exception": false,
     "start_time": "2020-10-07T12:17:39.155901",
     "status": "completed"
    },
    "tags": []
   },
   "outputs": [],
   "source": [
    "\n",
    "qqqt=pv(xtest)"
   ]
  },
  {
   "cell_type": "code",
   "execution_count": 43,
   "metadata": {
    "execution": {
     "iopub.execute_input": "2020-10-07T12:17:39.456527Z",
     "iopub.status.busy": "2020-10-07T12:17:39.455682Z",
     "iopub.status.idle": "2020-10-07T12:17:39.460529Z",
     "shell.execute_reply": "2020-10-07T12:17:39.459915Z"
    },
    "papermill": {
     "duration": 0.106886,
     "end_time": "2020-10-07T12:17:39.460669",
     "exception": false,
     "start_time": "2020-10-07T12:17:39.353783",
     "status": "completed"
    },
    "tags": []
   },
   "outputs": [
    {
     "data": {
      "text/plain": [
       "[113.29570000000001,\n",
       " 110.12010000000001,\n",
       " 97.0031,\n",
       " 90.6405,\n",
       " 94.60170000000001,\n",
       " 105.5322,\n",
       " 115.76100000000001,\n",
       " 106.994,\n",
       " 103.2548,\n",
       " 91.26920000000001]"
      ]
     },
     "execution_count": 43,
     "metadata": {},
     "output_type": "execute_result"
    }
   ],
   "source": [
    "qqqt[:10]"
   ]
  },
  {
   "cell_type": "code",
   "execution_count": 44,
   "metadata": {
    "execution": {
     "iopub.execute_input": "2020-10-07T12:17:39.655257Z",
     "iopub.status.busy": "2020-10-07T12:17:39.654013Z",
     "iopub.status.idle": "2020-10-07T12:17:39.657793Z",
     "shell.execute_reply": "2020-10-07T12:17:39.657147Z"
    },
    "papermill": {
     "duration": 0.102234,
     "end_time": "2020-10-07T12:17:39.657925",
     "exception": false,
     "start_time": "2020-10-07T12:17:39.555691",
     "status": "completed"
    },
    "tags": []
   },
   "outputs": [],
   "source": [
    "qqqf=pv(tt)"
   ]
  },
  {
   "cell_type": "code",
   "execution_count": 45,
   "metadata": {
    "execution": {
     "iopub.execute_input": "2020-10-07T12:17:39.853566Z",
     "iopub.status.busy": "2020-10-07T12:17:39.852436Z",
     "iopub.status.idle": "2020-10-07T12:17:39.857145Z",
     "shell.execute_reply": "2020-10-07T12:17:39.856383Z"
    },
    "papermill": {
     "duration": 0.10456,
     "end_time": "2020-10-07T12:17:39.857266",
     "exception": false,
     "start_time": "2020-10-07T12:17:39.752706",
     "status": "completed"
    },
    "tags": []
   },
   "outputs": [
    {
     "data": {
      "text/plain": [
       "[110.31488415619728,\n",
       " 106.38925880792641,\n",
       " 94.27577652875479,\n",
       " 86.15763524358597,\n",
       " 90.2131049926869]"
      ]
     },
     "execution_count": 45,
     "metadata": {},
     "output_type": "execute_result"
    }
   ],
   "source": [
    "qqqf[:5]"
   ]
  },
  {
   "cell_type": "markdown",
   "metadata": {
    "papermill": {
     "duration": 0.094092,
     "end_time": "2020-10-07T12:17:40.045773",
     "exception": false,
     "start_time": "2020-10-07T12:17:39.951681",
     "status": "completed"
    },
    "tags": []
   },
   "source": [
    "qqqt is our test data and qqqf is our forecast data now we are going to check accuracy using root mean squared error"
   ]
  },
  {
   "cell_type": "code",
   "execution_count": 46,
   "metadata": {
    "execution": {
     "iopub.execute_input": "2020-10-07T12:17:40.239778Z",
     "iopub.status.busy": "2020-10-07T12:17:40.239019Z",
     "iopub.status.idle": "2020-10-07T12:17:40.450147Z",
     "shell.execute_reply": "2020-10-07T12:17:40.449306Z"
    },
    "papermill": {
     "duration": 0.310337,
     "end_time": "2020-10-07T12:17:40.450281",
     "exception": false,
     "start_time": "2020-10-07T12:17:40.139944",
     "status": "completed"
    },
    "tags": []
   },
   "outputs": [],
   "source": [
    "from sklearn.metrics import mean_squared_error \n",
    "import numpy as np"
   ]
  },
  {
   "cell_type": "code",
   "execution_count": 47,
   "metadata": {
    "execution": {
     "iopub.execute_input": "2020-10-07T12:17:40.647286Z",
     "iopub.status.busy": "2020-10-07T12:17:40.646275Z",
     "iopub.status.idle": "2020-10-07T12:17:40.649525Z",
     "shell.execute_reply": "2020-10-07T12:17:40.648789Z"
    },
    "papermill": {
     "duration": 0.104008,
     "end_time": "2020-10-07T12:17:40.649662",
     "exception": false,
     "start_time": "2020-10-07T12:17:40.545654",
     "status": "completed"
    },
    "tags": []
   },
   "outputs": [],
   "source": [
    "error=mean_squared_error(qqqt,qqqf)"
   ]
  },
  {
   "cell_type": "code",
   "execution_count": 48,
   "metadata": {
    "execution": {
     "iopub.execute_input": "2020-10-07T12:17:40.848297Z",
     "iopub.status.busy": "2020-10-07T12:17:40.847421Z",
     "iopub.status.idle": "2020-10-07T12:17:40.851956Z",
     "shell.execute_reply": "2020-10-07T12:17:40.851210Z"
    },
    "papermill": {
     "duration": 0.104974,
     "end_time": "2020-10-07T12:17:40.852078",
     "exception": false,
     "start_time": "2020-10-07T12:17:40.747104",
     "status": "completed"
    },
    "tags": []
   },
   "outputs": [
    {
     "data": {
      "text/plain": [
       "29.121986427949984"
      ]
     },
     "execution_count": 48,
     "metadata": {},
     "output_type": "execute_result"
    }
   ],
   "source": [
    "error"
   ]
  },
  {
   "cell_type": "code",
   "execution_count": 49,
   "metadata": {
    "execution": {
     "iopub.execute_input": "2020-10-07T12:17:41.050172Z",
     "iopub.status.busy": "2020-10-07T12:17:41.049279Z",
     "iopub.status.idle": "2020-10-07T12:17:41.053232Z",
     "shell.execute_reply": "2020-10-07T12:17:41.053944Z"
    },
    "papermill": {
     "duration": 0.106108,
     "end_time": "2020-10-07T12:17:41.054097",
     "exception": false,
     "start_time": "2020-10-07T12:17:40.947989",
     "status": "completed"
    },
    "tags": []
   },
   "outputs": [
    {
     "data": {
      "text/plain": [
       "5.396479076949153"
      ]
     },
     "execution_count": 49,
     "metadata": {},
     "output_type": "execute_result"
    }
   ],
   "source": [
    "np.sqrt(error)"
   ]
  },
  {
   "cell_type": "markdown",
   "metadata": {
    "papermill": {
     "duration": 0.096984,
     "end_time": "2020-10-07T12:17:41.247974",
     "exception": false,
     "start_time": "2020-10-07T12:17:41.150990",
     "status": "completed"
    },
    "tags": []
   },
   "source": [
    "Great our model is performing good with just a 5% error"
   ]
  }
 ],
 "metadata": {
  "kernelspec": {
   "display_name": "Python 3",
   "language": "python",
   "name": "python3"
  },
  "language_info": {
   "codemirror_mode": {
    "name": "ipython",
    "version": 3
   },
   "file_extension": ".py",
   "mimetype": "text/x-python",
   "name": "python",
   "nbconvert_exporter": "python",
   "pygments_lexer": "ipython3",
   "version": "3.7.4"
  },
  "papermill": {
   "duration": 27.157981,
   "end_time": "2020-10-07T12:17:41.650101",
   "environment_variables": {},
   "exception": null,
   "input_path": "__notebook__.ipynb",
   "output_path": "__notebook__.ipynb",
   "parameters": {},
   "start_time": "2020-10-07T12:17:14.492120",
   "version": "2.1.0"
  }
 },
 "nbformat": 4,
 "nbformat_minor": 4
}
